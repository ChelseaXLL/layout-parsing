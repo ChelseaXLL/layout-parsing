{
 "cells": [
  {
   "cell_type": "code",
   "execution_count": 1,
   "metadata": {},
   "outputs": [],
   "source": [
    "import GenericParser\n",
    "import os"
   ]
  },
  {
   "cell_type": "code",
   "execution_count": 2,
   "metadata": {},
   "outputs": [],
   "source": [
    "parser = GenericParser.GenericParser(filename =  'textrank.pdf', \n",
    "                 output_doc_name =  'textrank-sample',\n",
    "                 output_doc_path = os.getcwd(), \n",
    "                 output_img_path= os.getcwd(),\n",
    "                 model_name= 'PubNet', \n",
    "                 language= 'eng', \n",
    "                 cl= 0.6,\n",
    "                 method = \"mathpix\", \n",
    "                 start_page = 0, \n",
    "                 end_page = 5,)"
   ]
  },
  {
   "cell_type": "code",
   "execution_count": 3,
   "metadata": {},
   "outputs": [
    {
     "data": {
      "text/plain": [
       "[{'page': 1, 'figures': []},\n",
       " {'page': 2,\n",
       "  'figures': [{'path': '/shared/shawn/layout-parser/textrank-sample-page1-00.png',\n",
       "    'coordinates': [652.133544921875,\n",
       "     82.16486358642578,\n",
       "     1050.0733642578125,\n",
       "     413.8717956542969],\n",
       "    'page': 1,\n",
       "    'doc': 'textrank.pdf'}]},\n",
       " {'page': 3, 'figures': []},\n",
       " {'page': 4,\n",
       "  'figures': [{'path': '/shared/shawn/layout-parser/textrank-sample-page3-00.png',\n",
       "    'coordinates': [154.20144653320312,\n",
       "     187.806884765625,\n",
       "     570.0823364257812,\n",
       "     552.728515625],\n",
       "    'page': 3,\n",
       "    'doc': 'textrank.pdf'}]},\n",
       " {'page': 5,\n",
       "  'figures': [{'path': '/shared/shawn/layout-parser/textrank-sample-page4-00.png',\n",
       "    'coordinates': [190.97268676757812,\n",
       "     53.1329460144043,\n",
       "     1026.1075439453125,\n",
       "     324.3011169433594],\n",
       "    'page': 4,\n",
       "    'doc': 'textrank.pdf'}]}]"
      ]
     },
     "execution_count": 3,
     "metadata": {},
     "output_type": "execute_result"
    }
   ],
   "source": [
    "parser.parse_figure()"
   ]
  }
 ],
 "metadata": {
  "kernelspec": {
   "display_name": "shawn",
   "language": "python",
   "name": "shawn"
  },
  "language_info": {
   "codemirror_mode": {
    "name": "ipython",
    "version": 3
   },
   "file_extension": ".py",
   "mimetype": "text/x-python",
   "name": "python",
   "nbconvert_exporter": "python",
   "pygments_lexer": "ipython3",
   "version": "3.8.3"
  }
 },
 "nbformat": 4,
 "nbformat_minor": 4
}
